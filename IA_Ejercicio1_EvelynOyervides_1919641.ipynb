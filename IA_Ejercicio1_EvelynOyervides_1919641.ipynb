{
  "nbformat": 4,
  "nbformat_minor": 0,
  "metadata": {
    "colab": {
      "name": "A2: Ejercicios Básicos en Phyton.ipynb",
      "provenance": [],
      "collapsed_sections": [],
      "authorship_tag": "ABX9TyO5OPylzPT20Br+bUGGpVJr",
      "include_colab_link": true
    },
    "kernelspec": {
      "name": "python3",
      "display_name": "Python 3"
    },
    "language_info": {
      "name": "python"
    }
  },
  "cells": [
    {
      "cell_type": "markdown",
      "metadata": {
        "id": "view-in-github",
        "colab_type": "text"
      },
      "source": [
        "<a href=\"https://colab.research.google.com/github/EvelynOyervides/LasActividadesVanAqui/blob/main/IA_Ejercicio1_EvelynOyervides_1919641.ipynb\" target=\"_parent\"><img src=\"https://colab.research.google.com/assets/colab-badge.svg\" alt=\"Open In Colab\"/></a>"
      ]
    },
    {
      "cell_type": "markdown",
      "source": [
        "A2: Ejercicios Básicos en Phyton, Evelyn Oyervides Rodríguez, 1919641, N1"
      ],
      "metadata": {
        "id": "Bca9ItHbL0I4"
      }
    },
    {
      "cell_type": "code",
      "source": [
        "#Ejercicio 1\n",
        "Nombre= input(\"¿Cuál es tu nombre?\") #Variable creada para guardar el nombre\n",
        "if Nombre == \"Ana\":\n",
        "  print(\"Vuelve a intentarlo\")\n",
        "elif Nombre == \"Juan\":\n",
        "  print(\"Vuelve a intentarlo\")\n",
        "elif Nombre == \"Pedro\":\n",
        "  print(\"Vuelve a intentarlo\")\n",
        "else:\n",
        "  print(\"¡Hola! Bienvenido \",Nombre)"
      ],
      "metadata": {
        "id": "yVhiEsXeL7F3",
        "colab": {
          "base_uri": "https://localhost:8080/"
        },
        "outputId": "b7d4ce05-9093-4dba-aced-ddced43c0b3a"
      },
      "execution_count": 17,
      "outputs": [
        {
          "output_type": "stream",
          "name": "stdout",
          "text": [
            "¿Cuál es tu nombre?Evelyn\n",
            "¡Hola! Bienvenido  Evelyn\n"
          ]
        }
      ]
    },
    {
      "cell_type": "code",
      "source": [
        "#Ejercicio 2\n",
        "def Lista (x):#Se define el nombre de la función\n",
        "  print(x[-1])#Se imprime la ultima posición\n",
        "  print(x[::-1])#Imprimir de inicio a fin en un orden negativo\n"
      ],
      "metadata": {
        "id": "yQTOMn95uzIv"
      },
      "execution_count": 12,
      "outputs": []
    },
    {
      "cell_type": "code",
      "source": [
        "#Ejercicio 2\n",
        "Lista2= [\"uno\",\"dos\",\"tres\",\"cuatro\",\"cinco\",\"seis\",\"siete\",\"ocho\",\"nueve\",\"diez\"]#se define la lista\n",
        "Lista(Lista2)#Se acciona la función con la lista"
      ],
      "metadata": {
        "colab": {
          "base_uri": "https://localhost:8080/"
        },
        "id": "uHvBEUzcyaxx",
        "outputId": "eb209cd5-fccf-42ad-9698-85d632d22c98"
      },
      "execution_count": 13,
      "outputs": [
        {
          "output_type": "stream",
          "name": "stdout",
          "text": [
            "diez\n",
            "['diez', 'nueve', 'ocho', 'siete', 'seis', 'cinco', 'cuatro', 'tres', 'dos', 'uno']\n"
          ]
        }
      ]
    },
    {
      "cell_type": "code",
      "source": [
        "#Ejercicio 3\n",
        "def marco (letrero):#Se define el nombre de la función\n",
        "  x = len(letrero)#Se saca la longitud de la lista\n",
        "  i = 0 #Variable para indicar posición impresa\n",
        "  while i<x: #Se hace un bucle para que se repita el proceso\n",
        "    print(letrero[i]) #Imprimir posición indicada\n",
        "    i+=1 \n"
      ],
      "metadata": {
        "id": "c3wojMUsz5kG"
      },
      "execution_count": 16,
      "outputs": []
    },
    {
      "cell_type": "code",
      "source": [
        "#Ejercicio 3\n",
        "marco2 = [\"Hola\",\"Bienvenidos\",\"a\",\"FIME\"] #Se define la lista\n",
        "marco(marco2) #Se genera la función"
      ],
      "metadata": {
        "colab": {
          "base_uri": "https://localhost:8080/"
        },
        "id": "hkvbjjqz1Npu",
        "outputId": "125cc59a-eb9b-4616-b651-1a027e310c16"
      },
      "execution_count": 13,
      "outputs": [
        {
          "output_type": "stream",
          "name": "stdout",
          "text": [
            "Hola\n",
            "Bienvenidos\n",
            "a\n",
            "FIME\n"
          ]
        }
      ]
    }
  ]
}
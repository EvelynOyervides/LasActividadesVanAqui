{
  "nbformat": 4,
  "nbformat_minor": 0,
  "metadata": {
    "colab": {
      "name": "A2: Ejercicios Básicos en Phyton.ipynb",
      "provenance": [],
      "collapsed_sections": [],
      "authorship_tag": "ABX9TyMN+lXEHInBH7XlQFluNY+5",
      "include_colab_link": true
    },
    "kernelspec": {
      "name": "python3",
      "display_name": "Python 3"
    },
    "language_info": {
      "name": "python"
    }
  },
  "cells": [
    {
      "cell_type": "markdown",
      "metadata": {
        "id": "view-in-github",
        "colab_type": "text"
      },
      "source": [
        "<a href=\"https://colab.research.google.com/github/EvelynOyervides/LasActividadesVanAqui/blob/main/IA_Ejercicio1_EvelynOyervides_1919641.ipynb\" target=\"_parent\"><img src=\"https://colab.research.google.com/assets/colab-badge.svg\" alt=\"Open In Colab\"/></a>"
      ]
    },
    {
      "cell_type": "markdown",
      "source": [
        "A2: Ejercicios Básicos en Phyton, Evelyn Oyervides Rodríguez, 1919641, N1"
      ],
      "metadata": {
        "id": "Bca9ItHbL0I4"
      }
    },
    {
      "cell_type": "code",
      "source": [
        "#Ejercicio 1\n",
        "Nombre= input(\"¿Cuál es tu nombre?\") #Variable creada para guardar el nombre\n",
        "if Nombre == \"Ana\":\n",
        "  print(\"Vuelve a intentarlo\")\n",
        "elif Nombre == \"Juan\":\n",
        "  print(\"Vuelve a intentarlo\")\n",
        "elif Nombre == \"Pedro\":\n",
        "  print(\"Vuelve a intentarlo\")\n",
        "else:\n",
        "  print(\"¡Hola! Bienvenido \",Nombre)"
      ],
      "metadata": {
        "id": "yVhiEsXeL7F3",
        "colab": {
          "base_uri": "https://localhost:8080/"
        },
        "outputId": "36bd0755-82e4-40d1-cac5-69c71d6b0ebd"
      },
      "execution_count": 11,
      "outputs": [
        {
          "output_type": "stream",
          "name": "stdout",
          "text": [
            "¿Cuál es tu nombre?Ernesto\n",
            "¡Hola! Bienvenido  Ernesto\n"
          ]
        }
      ]
    },
    {
      "cell_type": "code",
      "source": [
        "#Ejercicio 2\n",
        "def Lista (x):\n",
        "  print(x[-1])\n",
        "  print(x[::-1])\n"
      ],
      "metadata": {
        "id": "yQTOMn95uzIv"
      },
      "execution_count": 12,
      "outputs": []
    },
    {
      "cell_type": "code",
      "source": [
        "#Ejercicio 2\n",
        "Lista2= [\"uno\",\"dos\",\"tres\",\"cuatro\",\"cinco\",\"seis\",\"siete\",\"ocho\",\"nueve\",\"diez\"]\n",
        "Lista(Lista2)"
      ],
      "metadata": {
        "colab": {
          "base_uri": "https://localhost:8080/"
        },
        "id": "uHvBEUzcyaxx",
        "outputId": "eb209cd5-fccf-42ad-9698-85d632d22c98"
      },
      "execution_count": 13,
      "outputs": [
        {
          "output_type": "stream",
          "name": "stdout",
          "text": [
            "diez\n",
            "['diez', 'nueve', 'ocho', 'siete', 'seis', 'cinco', 'cuatro', 'tres', 'dos', 'uno']\n"
          ]
        }
      ]
    },
    {
      "cell_type": "code",
      "source": [
        "#Ejercicio 3\n",
        "def marco (letrero):\n",
        "  x = len(letrero)\n",
        "  i = 0\n",
        "  while i<x:\n",
        "    print(letrero[i])\n",
        "    i+=1\n"
      ],
      "metadata": {
        "id": "c3wojMUsz5kG"
      },
      "execution_count": 16,
      "outputs": []
    },
    {
      "cell_type": "code",
      "source": [
        "#Ejercicio 3\n",
        "marco2 = [\"Hola\",\"Bienvenidos\",\"a\",\"FIME\"]\n",
        "marco(marco2)"
      ],
      "metadata": {
        "colab": {
          "base_uri": "https://localhost:8080/"
        },
        "id": "hkvbjjqz1Npu",
        "outputId": "125cc59a-eb9b-4616-b651-1a027e310c16"
      },
      "execution_count": 13,
      "outputs": [
        {
          "output_type": "stream",
          "name": "stdout",
          "text": [
            "Hola\n",
            "Bienvenidos\n",
            "a\n",
            "FIME\n"
          ]
        }
      ]
    }
  ]
}